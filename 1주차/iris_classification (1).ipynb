{
 "cells": [
  {
   "cell_type": "code",
   "execution_count": 5,
   "id": "d0dbaf98-ff95-4e98-acad-f0a8f77d02de",
   "metadata": {},
   "outputs": [
    {
     "name": "stdout",
     "output_type": "stream",
     "text": [
      "데이터 미리보기:\n",
      "   SepalLength  SepalWidth  PetalLength  PetalWidth         Name\n",
      "0          5.1         3.5          1.4         0.2  Iris-setosa\n",
      "1          4.9         3.0          1.4         0.2  Iris-setosa\n",
      "2          4.7         3.2          1.3         0.2  Iris-setosa\n",
      "3          4.6         3.1          1.5         0.2  Iris-setosa\n",
      "4          5.0         3.6          1.4         0.2  Iris-setosa\n",
      "\n",
      "모델별 정확도 비교:\n",
      "Decision Tree 정확도: 1.0000\n",
      "Random Forest 정확도: 1.0000\n",
      "SVM 정확도: 1.0000\n",
      "Logistic Regression 정확도: 1.0000\n"
     ]
    }
   ],
   "source": [
    "# 필요한 라이브러리 불러오기\n",
    "import pandas as pd\n",
    "from sklearn.model_selection import train_test_split\n",
    "from sklearn.tree import DecisionTreeClassifier\n",
    "from sklearn.ensemble import RandomForestClassifier\n",
    "from sklearn.svm import SVC\n",
    "from sklearn.linear_model import LogisticRegression\n",
    "from sklearn.metrics import accuracy_score\n",
    "\n",
    "# CSV 파일 경로 설정 (자신의 CSV 파일 경로로 변경)\n",
    "file_path = file_path = \"C:/Users/water/OneDrive/바탕 화면/iris-classification/iris.csv\" # 본인이 저장한 경로로 변경\n",
    "\n",
    "# 데이터 불러오기\n",
    "df = pd.read_csv(file_path)\n",
    "\n",
    "# 데이터 확인\n",
    "print(\"데이터 미리보기:\")\n",
    "print(df.head())\n",
    "\n",
    "# 독립변수(X)와 종속변수(y) 분리\n",
    "X = df.iloc[:, :-1]  # 마지막 열을 제외한 나머지 열 (특징 데이터)\n",
    "y = df.iloc[:, -1]   # 마지막 열 (클래스 레이블)\n",
    "\n",
    "# 학습 데이터와 테스트 데이터 분리 (80% 학습, 20% 테스트)\n",
    "X_train, X_test, y_train, y_test = train_test_split(X, y, test_size=0.2, random_state=42)\n",
    "\n",
    "# 머신러닝 모델 리스트\n",
    "models = {\n",
    "    \"Decision Tree\": DecisionTreeClassifier(),\n",
    "    \"Random Forest\": RandomForestClassifier(),\n",
    "    \"SVM\": SVC(),\n",
    "    \"Logistic Regression\": LogisticRegression()\n",
    "}\n",
    "\n",
    "# 각 모델 학습 및 평가\n",
    "print(\"\\n모델별 정확도 비교:\")\n",
    "for name, model in models.items():\n",
    "    model.fit(X_train, y_train)  # 모델 학습\n",
    "    y_pred = model.predict(X_test)  # 예측\n",
    "    acc = accuracy_score(y_test, y_pred)  # 정확도 계산\n",
    "    print(f\"{name} 정확도: {acc:.4f}\")\n"
   ]
  },
  {
   "cell_type": "code",
   "execution_count": null,
   "id": "7cd38947-42da-495a-a683-72ec1733ba96",
   "metadata": {},
   "outputs": [],
   "source": []
  }
 ],
 "metadata": {
  "kernelspec": {
   "display_name": "Python [conda env:base] *",
   "language": "python",
   "name": "conda-base-py"
  },
  "language_info": {
   "codemirror_mode": {
    "name": "ipython",
    "version": 3
   },
   "file_extension": ".py",
   "mimetype": "text/x-python",
   "name": "python",
   "nbconvert_exporter": "python",
   "pygments_lexer": "ipython3",
   "version": "3.12.7"
  }
 },
 "nbformat": 4,
 "nbformat_minor": 5
}
