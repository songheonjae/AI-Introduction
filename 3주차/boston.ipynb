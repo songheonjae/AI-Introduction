{
 "cells": [
  {
   "cell_type": "code",
   "execution_count": 61,
   "id": "07adc343-cb94-460a-9708-9a921f65437b",
   "metadata": {},
   "outputs": [
    {
     "name": "stdout",
     "output_type": "stream",
     "text": [
      "데이터 미리보기:\n",
      "   Unnamed: 0  MedInc  HouseAge  AveRooms  AveBedrms  Population  AveOccup  \\\n",
      "0           0  8.3252      41.0  6.984127   1.023810       322.0  2.555556   \n",
      "1           1  8.3014      21.0  6.238137   0.971880      2401.0  2.109842   \n",
      "2           2  7.2574      52.0  8.288136   1.073446       496.0  2.802260   \n",
      "3           3  5.6431      52.0  5.817352   1.073059       558.0  2.547945   \n",
      "4           4  3.8462      52.0  6.281853   1.081081       565.0  2.181467   \n",
      "\n",
      "   Latitude  Longitude  PRICE  \n",
      "0     37.88    -122.23  4.526  \n",
      "1     37.86    -122.22  3.585  \n",
      "2     37.85    -122.24  3.521  \n",
      "3     37.85    -122.25  3.413  \n",
      "4     37.85    -122.25  3.422  \n"
     ]
    }
   ],
   "source": [
    "import pandas as pd\n",
    "import numpy as np\n",
    "from sklearn.model_selection import train_test_split\n",
    "from sklearn.ensemble import RandomForestClassifier\n",
    "from sklearn.tree import DecisionTreeClassifier\n",
    "from sklearn.linear_model import LogisticRegression\n",
    "from sklearn.neighbors import KNeighborsClassifier\n",
    "from sklearn.svm import SVC\n",
    "from sklearn.metrics import accuracy_score, confusion_matrix\n",
    "import seaborn as sns\n",
    "import matplotlib.pyplot as plt\n",
    "\n",
    "# CSV 파일 경로 설정 (자신의 CSV 파일 경로로 변경)\n",
    "file_path = file_path = \"C:/Users/water/OneDrive/바탕 화면/iris-classification/boston.csv\"\n",
    "df = df.drop(columns=['Unnamed: 0'])\n",
    "# 데이터 불러오기\n",
    "df = pd.read_csv(file_path)\n",
    "# 데이터 확인\n",
    "print(\"데이터 미리보기:\")\n",
    "print(df.head()) #df.head()괄호 안에 숫자만큼 행 출력"
   ]
  },
  {
   "cell_type": "code",
   "execution_count": 55,
   "id": "3093ae03-2eee-4456-b5ab-92932a3310f7",
   "metadata": {},
   "outputs": [
    {
     "name": "stdout",
     "output_type": "stream",
     "text": [
      "각각 결측치 개수:\n",
      "Unnamed: 0    0\n",
      "MedInc        0\n",
      "HouseAge      0\n",
      "AveRooms      0\n",
      "AveBedrms     0\n",
      "Population    0\n",
      "AveOccup      0\n",
      "Latitude      0\n",
      "Longitude     0\n",
      "PRICE         0\n",
      "dtype: int64\n",
      "총 결측치 개수: 0\n"
     ]
    }
   ],
   "source": [
    "#결측치 측정기기\n",
    "missing_values = df.isnull().sum()\n",
    "print(\"각각 결측치 개수:\")\n",
    "print(missing_values)\n",
    "print(\"총 결측치 개수:\", df.isnull().sum().sum())"
   ]
  },
  {
   "cell_type": "code",
   "execution_count": 56,
   "id": "65f91888-2c16-4a7d-b572-609c40dc3984",
   "metadata": {},
   "outputs": [
    {
     "name": "stdout",
     "output_type": "stream",
     "text": [
      "레이블 값 종류: [4.526 3.585 3.521 ... 4.258 2.007 0.47 ]\n",
      "\n",
      "레이블 개수:\n",
      " PRICE\n",
      "5.00001    965\n",
      "1.37500    122\n",
      "1.62500    117\n",
      "1.12500    103\n",
      "1.87500     93\n",
      "          ... \n",
      "3.59200      1\n",
      "0.54900      1\n",
      "3.77600      1\n",
      "0.81200      1\n",
      "0.47000      1\n",
      "Name: count, Length: 3842, dtype: int64\n"
     ]
    }
   ],
   "source": [
    "#레이블 값 종류 확인\n",
    "print(\"레이블 값 종류:\", df['PRICE'].unique())  # .unique()함수는 Survived 열에 존재하는 고유한 값(레이블)을 리스트 형태로 반환\n",
    "\n",
    "#각 레이블 개수 확인 (클래스 분포)\n",
    "print(\"\\n레이블 개수:\\n\", df['PRICE'].value_counts()) # value_counts()는 Survived 열에서 각 값이 몇 번 등장하는지를 계산하여 반환"
   ]
  },
  {
   "cell_type": "code",
   "execution_count": 57,
   "id": "09f34696-c948-444c-90a6-3f33daaef56b",
   "metadata": {},
   "outputs": [
    {
     "name": "stdout",
     "output_type": "stream",
     "text": [
      "Linear Regression 결과:\n",
      "  평균제곱오차(MSE): 0.5547\n",
      "  평균제곱근오차(RMSE): 0.7448\n",
      "----------------------------------------\n",
      "Decision Tree 결과:\n",
      "  평균제곱오차(MSE): 0.4766\n",
      "  평균제곱근오차(RMSE): 0.6903\n",
      "----------------------------------------\n",
      "RandomForest Regression 결과:\n",
      "  평균제곱오차(MSE): 0.2374\n",
      "  평균제곱근오차(RMSE): 0.4872\n",
      "----------------------------------------\n"
     ]
    }
   ],
   "source": [
    "import numpy as np\n",
    "import pandas as pd\n",
    "from sklearn.model_selection import train_test_split\n",
    "from sklearn.preprocessing import StandardScaler\n",
    "from sklearn.linear_model import LinearRegression\n",
    "from sklearn.tree import DecisionTreeRegressor\n",
    "from sklearn.ensemble import RandomForestRegressor\n",
    "from sklearn.metrics import mean_squared_error\n",
    "# 'PRICE' 컬럼 확인\n",
    "if 'PRICE' in df.columns:\n",
    "    X = df.drop(columns=['PRICE'])  # 특성 데이터\n",
    "    y = df['PRICE']  # 타겟 (집값)\n",
    "else:\n",
    "    raise KeyError(\"ERROR: 'PRICE' 컬럼이 데이터에 없습니다.\")\n",
    "\n",
    "# 훈련 데이터와 테스트 데이터로 분리\n",
    "X_train, X_test, y_train, y_test = train_test_split(X, y, test_size=0.2, random_state=42)\n",
    "\n",
    "# 데이터 스케일링\n",
    "scaler = StandardScaler()\n",
    "X_train_scaled = scaler.fit_transform(X_train)\n",
    "X_test_scaled = scaler.transform(X_test)\n",
    "\n",
    "# 모델 리스트\n",
    "models = {\n",
    "    \"Linear Regression\": LinearRegression(),  \n",
    "    \"Decision Tree\": DecisionTreeRegressor(),\n",
    "    \"RandomForest Regression\": RandomForestRegressor(n_estimators=100)  # 트리 100개 사용\n",
    "}\n",
    "\n",
    "# 각 모델별 성능 평가\n",
    "for name, model in models.items():\n",
    "    # 모델 학습\n",
    "    model.fit(X_train_scaled, y_train)\n",
    "\n",
    "    # 예측 수행\n",
    "    y_pred = model.predict(X_test_scaled)\n",
    "\n",
    "    # 성능 평가\n",
    "    mse = mean_squared_error(y_test, y_pred)\n",
    "    rmse = np.sqrt(mse)\n",
    "\n",
    "    # 결과 출력\n",
    "    print(f\"{name} 결과:\")\n",
    "    print(f\"  평균제곱오차(MSE): {mse:.4f}\")\n",
    "    print(f\"  평균제곱근오차(RMSE): {rmse:.4f}\")\n",
    "    print(\"-\" * 40)\n"
   ]
  },
  {
   "cell_type": "code",
   "execution_count": null,
   "id": "45571fc8-155d-454f-92e2-a25685cacc80",
   "metadata": {},
   "outputs": [],
   "source": []
  }
 ],
 "metadata": {
  "kernelspec": {
   "display_name": "Python [conda env:base] *",
   "language": "python",
   "name": "conda-base-py"
  },
  "language_info": {
   "codemirror_mode": {
    "name": "ipython",
    "version": 3
   },
   "file_extension": ".py",
   "mimetype": "text/x-python",
   "name": "python",
   "nbconvert_exporter": "python",
   "pygments_lexer": "ipython3",
   "version": "3.12.7"
  }
 },
 "nbformat": 4,
 "nbformat_minor": 5
}
